{
 "cells": [
  {
   "cell_type": "code",
   "execution_count": 2,
   "id": "5f192207",
   "metadata": {},
   "outputs": [],
   "source": [
    "#Pytorch imports\n",
    "\n",
    "import torch\n",
    "import torch.nn as nn\n",
    "import torch.nn.functional as F\n",
    "\n",
    "from torch.utils.data import Dataset\n",
    "from torch.utils.data import DataLoader\n",
    "from tqdm import tqdm\n",
    "from tqdm import tqdm_notebook\n",
    "\n",
    "#Package for creating Actionable Counterfactuals\n",
    "\n",
    "###import dice_ml as dml\n",
    "###from dice_ml.explainer_interfaces.dice_pytorch import DicePyTorch\n",
    "###from dice_ml.utils.exception import UserConfigValidationException\n",
    "\n",
    "# Package for creating Adversarial Examples\n",
    "\n",
    "###import art\n",
    "\n",
    "#Package for creating amicable perturbations\n",
    "\n",
    "#import amicable_pertubations as ap\n",
    "\n",
    "#Miscellaneous Utilities \n",
    "\n",
    "import numpy as np\n",
    "import scipy.linalg as la\n",
    "import pandas as pd\n",
    "import random\n",
    "\n",
    "from matplotlib import pyplot as plt\n",
    "\n",
    "import math\n",
    "\n",
    "import Utils as ut\n",
    "\n",
    "random.seed(0)\n",
    "np.random.seed(0)\n",
    "torch.manual_seed(0)\n",
    "torch.cuda.manual_seed(0)\n",
    "torch.backends.cudnn.deterministic = True\n",
    "device = torch.device('cuda:0' if torch.cuda.is_available() else 'cpu')"
   ]
  },
  {
   "cell_type": "markdown",
   "id": "ddb2cd69",
   "metadata": {},
   "source": [
    "# Adult Income"
   ]
  },
  {
   "cell_type": "markdown",
   "id": "e9e4095f",
   "metadata": {},
   "source": [
    "Get and seperate data."
   ]
  },
  {
   "cell_type": "code",
   "execution_count": 3,
   "id": "e805c570",
   "metadata": {},
   "outputs": [],
   "source": [
    "adult_income_data = pd.read_csv('data_folder/numerisized_adult_income_data.csv')"
   ]
  },
  {
   "cell_type": "code",
   "execution_count": 4,
   "id": "e7265e66",
   "metadata": {},
   "outputs": [],
   "source": [
    "names = list(adult_income_data)"
   ]
  },
  {
   "cell_type": "code",
   "execution_count": 5,
   "id": "0e28d7ec",
   "metadata": {},
   "outputs": [],
   "source": [
    "adult_training_dataset, adult_testing_dataset, adult_validation_dataset = ut.get_datasets_from_dataframe(adult_income_data)"
   ]
  },
  {
   "cell_type": "code",
   "execution_count": 6,
   "id": "5545b57e",
   "metadata": {},
   "outputs": [],
   "source": [
    "adult_income_array = adult_income_data.to_numpy()"
   ]
  },
  {
   "cell_type": "code",
   "execution_count": 7,
   "id": "02adcdeb",
   "metadata": {},
   "outputs": [],
   "source": [
    "adult_training_array, adult_testing_array, adult_validation_array = ut.even_triple_split(adult_income_array)"
   ]
  },
  {
   "cell_type": "code",
   "execution_count": 8,
   "id": "3f0c1e61",
   "metadata": {},
   "outputs": [],
   "source": [
    "maxes = np.max(adult_income_array,axis = 0)[:-1]\n",
    "mins = np.min(adult_income_array,axis = 0)[:-1]\n",
    "bounds = np.vstack((mins,maxes))"
   ]
  },
  {
   "cell_type": "code",
   "execution_count": 9,
   "id": "a4fb5fbc",
   "metadata": {},
   "outputs": [],
   "source": [
    "low_income = adult_testing_array[np.where(adult_testing_array[:,-1]==0)]\n",
    "low_income = low_income[:,:-1]"
   ]
  },
  {
   "cell_type": "markdown",
   "id": "aa0fa2b9",
   "metadata": {},
   "source": [
    "Make and test models"
   ]
  },
  {
   "cell_type": "code",
   "execution_count": 10,
   "id": "b0b71856",
   "metadata": {},
   "outputs": [
    {
     "data": {
      "text/plain": [
       "Basic_fully_connected_Network(\n",
       "  (layer1): Linear(in_features=27, out_features=60, bias=True)\n",
       "  (layer2): Linear(in_features=60, out_features=60, bias=True)\n",
       "  (layer3): Linear(in_features=60, out_features=60, bias=True)\n",
       "  (layer4): Linear(in_features=60, out_features=2, bias=True)\n",
       ")"
      ]
     },
     "execution_count": 10,
     "metadata": {},
     "output_type": "execute_result"
    }
   ],
   "source": [
    "classifier = ut.Basic_fully_connected_Network(27,2).to(device)\n",
    "classifier.eval()"
   ]
  },
  {
   "cell_type": "code",
   "execution_count": 11,
   "id": "6ba7aa89",
   "metadata": {},
   "outputs": [],
   "source": [
    "#Train neural net if not already trained\n",
    "#Training_Accuracy_History, Validation_Accuracy_History, Training_Loss_History, Validation_Loss_History= train_neural_net(classifier, 'adult_classifier.pt', 100, 1000, 64 , adult_training_dataset,adult_validation_dataset,adult_testing_dataset, new_net = True)\n"
   ]
  },
  {
   "cell_type": "code",
   "execution_count": 12,
   "id": "07fae73b",
   "metadata": {},
   "outputs": [
    {
     "data": {
      "text/plain": [
       "<All keys matched successfully>"
      ]
     },
     "execution_count": 12,
     "metadata": {},
     "output_type": "execute_result"
    }
   ],
   "source": [
    "classifier.load_state_dict(torch.load('models_folder/adult_classifier.pt'))"
   ]
  },
  {
   "cell_type": "code",
   "execution_count": 13,
   "id": "c8ba6c70",
   "metadata": {},
   "outputs": [
    {
     "data": {
      "text/plain": [
       "Basic_fully_connected_Network(\n",
       "  (layer1): Linear(in_features=27, out_features=60, bias=True)\n",
       "  (layer2): Linear(in_features=60, out_features=60, bias=True)\n",
       "  (layer3): Linear(in_features=60, out_features=60, bias=True)\n",
       "  (layer4): Linear(in_features=60, out_features=2, bias=True)\n",
       ")"
      ]
     },
     "execution_count": 13,
     "metadata": {},
     "output_type": "execute_result"
    }
   ],
   "source": [
    "classifier_for_softening = ut.Basic_fully_connected_Network(27,2)\n",
    "classifier_for_softening.eval()"
   ]
  },
  {
   "cell_type": "code",
   "execution_count": 14,
   "id": "ac95a1fd",
   "metadata": {},
   "outputs": [
    {
     "data": {
      "text/plain": [
       "<All keys matched successfully>"
      ]
     },
     "execution_count": 14,
     "metadata": {},
     "output_type": "execute_result"
    }
   ],
   "source": [
    "classifier_for_softening.load_state_dict(torch.load('models_folder/adult_classifier.pt'))"
   ]
  },
  {
   "cell_type": "code",
   "execution_count": 15,
   "id": "0d9892fa",
   "metadata": {},
   "outputs": [],
   "source": [
    "soft_classifier = ut.softmaxed_network(classifier_for_softening)"
   ]
  },
  {
   "cell_type": "code",
   "execution_count": 16,
   "id": "e39a03cf",
   "metadata": {},
   "outputs": [
    {
     "name": "stderr",
     "output_type": "stream",
     "text": [
      "100%|██████████████████████████████████████████| 62/62 [00:00<00:00, 457.74it/s]"
     ]
    },
    {
     "name": "stdout",
     "output_type": "stream",
     "text": [
      "Model Accuracy : 80.12108980827448\n"
     ]
    },
    {
     "name": "stderr",
     "output_type": "stream",
     "text": [
      "\n"
     ]
    },
    {
     "data": {
      "text/plain": [
       "0.8012108980827447"
      ]
     },
     "execution_count": 16,
     "metadata": {},
     "output_type": "execute_result"
    }
   ],
   "source": [
    "ut.check_net_accuracy(classifier, adult_testing_dataset, 64, verbose = True)"
   ]
  },
  {
   "cell_type": "code",
   "execution_count": 17,
   "id": "1d9df6bb",
   "metadata": {},
   "outputs": [],
   "source": [
    "low_income_estimates = classifier(torch.tensor(low_income).float().to(device)).detach().cpu().numpy()\n",
    "correctly_classified = low_income_estimates[:,0]>=low_income_estimates[:,1]\n",
    "certified_low_income = low_income[correctly_classified]"
   ]
  },
  {
   "cell_type": "code",
   "execution_count": 18,
   "id": "81827302",
   "metadata": {},
   "outputs": [],
   "source": [
    "adult_training_difference_data, adult_testing_difference_data, adult_validation_difference_data = ut.get_difference_datasets_from_dataframe(adult_income_data)"
   ]
  },
  {
   "cell_type": "code",
   "execution_count": 19,
   "id": "a3f796ad",
   "metadata": {},
   "outputs": [
    {
     "data": {
      "text/plain": [
       "Basic_fully_connected_Network(\n",
       "  (layer1): Linear(in_features=54, out_features=60, bias=True)\n",
       "  (layer2): Linear(in_features=60, out_features=60, bias=True)\n",
       "  (layer3): Linear(in_features=60, out_features=60, bias=True)\n",
       "  (layer4): Linear(in_features=60, out_features=2, bias=True)\n",
       ")"
      ]
     },
     "execution_count": 19,
     "metadata": {},
     "output_type": "execute_result"
    }
   ],
   "source": [
    "verifier = ut.Basic_fully_connected_Network(54,2).to(device)\n",
    "verifier.eval()"
   ]
  },
  {
   "cell_type": "code",
   "execution_count": 20,
   "id": "a9222c39",
   "metadata": {},
   "outputs": [
    {
     "data": {
      "text/plain": [
       "<All keys matched successfully>"
      ]
     },
     "execution_count": 20,
     "metadata": {},
     "output_type": "execute_result"
    }
   ],
   "source": [
    "verifier.load_state_dict(torch.load('models_folder/adult_verifier.pt'))"
   ]
  },
  {
   "cell_type": "code",
   "execution_count": 21,
   "id": "1ff518d8",
   "metadata": {},
   "outputs": [
    {
     "name": "stderr",
     "output_type": "stream",
     "text": [
      "100%|██████████████████████████████████████████| 41/41 [00:00<00:00, 389.45it/s]"
     ]
    },
    {
     "name": "stdout",
     "output_type": "stream",
     "text": [
      "Model Accuracy : 69.08602150537635\n"
     ]
    },
    {
     "name": "stderr",
     "output_type": "stream",
     "text": [
      "\n"
     ]
    },
    {
     "data": {
      "text/plain": [
       "0.6908602150537635"
      ]
     },
     "execution_count": 21,
     "metadata": {},
     "output_type": "execute_result"
    }
   ],
   "source": [
    "ut.check_net_accuracy(verifier, adult_testing_difference_data, 64, verbose = True)"
   ]
  },
  {
   "cell_type": "code",
   "execution_count": 22,
   "id": "36e0964d",
   "metadata": {},
   "outputs": [
    {
     "name": "stderr",
     "output_type": "stream",
     "text": [
      "100%|███████████████████████████████████████████| 41/41 [00:00<00:00, 53.94it/s]\n"
     ]
    },
    {
     "data": {
      "image/png": "[encoded data removed]",
      "text/plain": [
       "<Figure size 640x480 with 1 Axes>"
      ]
     },
     "metadata": {},
     "output_type": "display_data"
    },
    {
     "data": {
      "text/plain": [
       "(0.6716589861751152,\n",
       " 0.67357910906298,\n",
       " array([0.46681273, 0.16006333, 0.38324782, ..., 0.24583814, 0.59372264,\n",
       "        0.75084007]),\n",
       " array([0.58988523, 0.39341164, 0.44256812, ..., 0.2917996 , 0.60191673,\n",
       "        0.76511586]))"
      ]
     },
     "execution_count": 22,
     "metadata": {},
     "output_type": "execute_result"
    }
   ],
   "source": [
    "ut.check_verifier(verifier,classifier,adult_testing_difference_data, 64)"
   ]
  },
  {
   "cell_type": "markdown",
   "id": "4f4812a8",
   "metadata": {},
   "source": [
    "Define data set dependent functions"
   ]
  },
  {
   "cell_type": "code",
   "execution_count": 22,
   "id": "06f16aa0",
   "metadata": {},
   "outputs": [],
   "source": [
    "def ai_conditioner(x):\n",
    "    output = x.detach().clone()\n",
    "    output[0] = torch.round(output[0])\n",
    "    \n",
    "    output[1] = torch.round(output[1])\n",
    "    \n",
    "    output[2] = torch.round(output[2])\n",
    "    \n",
    "    output[3] = torch.round(output[3])\n",
    "    \n",
    "    status = torch.argmax(output[4:9])\n",
    "    output[4:9] *= 0\n",
    "    output[4+status] += 1\n",
    "    \n",
    "    employer = torch.argmax(output[9:13])\n",
    "    output[9:13] *= 0\n",
    "    output[9+employer] += 1\n",
    "    \n",
    "    education = torch.argmax(output[13:21])\n",
    "    output[13:21] *= 0\n",
    "    output[13+education] += 1\n",
    "    \n",
    "    job = torch.argmax(output[21:])\n",
    "    output[21:] *= 0\n",
    "    output[21+job] += 1\n",
    "    \n",
    "    return output"
   ]
  },
  {
   "cell_type": "code",
   "execution_count": 23,
   "id": "b6c960a8",
   "metadata": {},
   "outputs": [],
   "source": [
    "def ai_distance(x,y):\n",
    "    distance = 0\n",
    "    distance += 0.1*(y[3]-x[3])**2\n",
    "    \n",
    "    status_weights = torch.tensor([[0,2,1000,1000,1000],[100,0,1,1,2],[1000,2,0,1000,1000],[1000,3,2,0,2],[1000,2,1000,1000,0]]).double()    \n",
    "    distance += torch.dot(torch.mv(status_weights,y[4:9]),x[4:9])\n",
    "    \n",
    "    employer_weights  = 1-torch.eye(4).double()\n",
    "    distance += torch.dot(torch.mv(employer_weights,y[9:13]),x[9:13])\n",
    "    \n",
    "    edu_weights = torch.tensor([[0,2,10,3,4,6,8,11],[1000,0,8,1,2,4,6,9],[1000,1000,0,1000,1000,1000,2,5],[1000,1000,7,0,1,3,5,8],[1000,1000,6,1000,0,2,4,7],[1000,1000,4,1000,1000,0,2,5],[1000,1000,4,1000,1000,1000,0,3],[1000,1000,4,1000,1000,1000,1000,0]]).double()\n",
    "    distance += torch.dot(torch.mv(edu_weights,y[13:21]),x[13:21])\n",
    "    \n",
    "    field_weights = torch.tensor([[0,1,2,3,4,1],[1,0,1,2,3,1],[1,1,0,1,2,1],[1,1,1,0,1,1],[1,1,1,1,0,1],[1,1,1,1,1,0]]).double()\n",
    "    distance += torch.dot(torch.mv(field_weights,y[21:27]),x[21:27])\n",
    "    \n",
    "    return distance"
   ]
  },
  {
   "cell_type": "code",
   "execution_count": 24,
   "id": "1208e126",
   "metadata": {},
   "outputs": [],
   "source": [
    "def ai_interpretor(x):\n",
    "    print('Age: '+str(x[0]))\n",
    "    \n",
    "    if x[1] == 1:\n",
    "        print('Race: White')\n",
    "    else:\n",
    "        print('Race: Not White')\n",
    "        \n",
    "    if x[2] == 1:\n",
    "        print('Sex: Male')\n",
    "    else:\n",
    "        print('Sex: Female')\n",
    "        \n",
    "    print('Hours worked per week: '+str(x[3]))\n",
    "        \n",
    "    statuses = ['Single','Married','Widowed','Seperated','Divorced']\n",
    "    status = np.argmax(x[4:9])\n",
    "    print('Marital Status: '+statuses[status])\n",
    "    \n",
    "    \n",
    "    employers = ['Government','Private', 'Self-Employed', 'Other/Unknown']\n",
    "    employer = np.argmax(x[9:13])\n",
    "    print('Employer: '+employers[employer])\n",
    "    \n",
    "    educations = ['School','HS-grad','Prof-school','Some-college','Assoc','Bachelors','Masters','Doctorate']\n",
    "    education = np.argmax(x[13:21])\n",
    "    print('Education: '+educations[education])\n",
    "    \n",
    "    jobs = ['Service','Sales','Blue-Collar','White-Collar','Professional','Other/Unknown_Occupation']\n",
    "    job = np.argmax(x[21:27])\n",
    "    print('Occupation: '+jobs[job])"
   ]
  },
  {
   "cell_type": "code",
   "execution_count": 25,
   "id": "9a054c0f",
   "metadata": {},
   "outputs": [],
   "source": [
    "def ai__change_interpretor(x,y):\n",
    "    age_change =  y[0]-x[0]    \n",
    "    if age_change > 0:\n",
    "        print('Age increased by '+str(age_change)+'.')\n",
    "    elif age_change < 0:\n",
    "        print('Age decreased by '+str(age_change*-1)+'.')\n",
    "    \n",
    "    race_change = y[1]-x[1]\n",
    "    if race_change ==1:\n",
    "        print('Changed from non-white to white.')\n",
    "    elif race_change ==-1:\n",
    "        print('Changed from white to non-white.')\n",
    "        \n",
    "    race_change = y[2]-x[2]\n",
    "    if race_change ==1:\n",
    "        print('Changed from female to male.')\n",
    "    elif race_change ==-1:\n",
    "        print('Changed from male to female.')\n",
    "        \n",
    "    hours_change =  y[3]-x[3]    \n",
    "    if hours_change > 0:\n",
    "        print('Hours worked increased by '+str(hours_change)+'.')\n",
    "    elif hours_change < 0:\n",
    "        print('Hours worked decreased by '+str(hours_change*-1)+'.')\n",
    "           \n",
    "    statuses = ['Single','Married','Widowed','Seperated','Divorced']\n",
    "    org_status = np.argmax(x[4:9])\n",
    "    new_status = np.argmax(y[4:9])\n",
    "    if np.abs(org_status - new_status)>.5:\n",
    "        print('Marital Status changed from '+statuses[org_status]+' to '+statuses[new_status]+'.')\n",
    "\n",
    "        \n",
    "    employers = ['Government','Private', 'Self-Employed', 'Other/Unknown']\n",
    "    org_employer = np.argmax(x[9:13])\n",
    "    new_employer = np.argmax(y[9:13])\n",
    "    if np.abs(org_employer - new_employer)>.5:\n",
    "        print('Employer type from '+employers[org_employer]+' to '+employers[new_employer]+'.')\n",
    "\n",
    "        \n",
    "    educations = ['School','HS-grad','Prof-school','Some-college','Assoc','Bachelors','Masters','Doctorate']\n",
    "    org_education = np.argmax(x[13:21])\n",
    "    new_education = np.argmax(y[13:21])\n",
    "    if np.abs(org_education - new_education)>.5:\n",
    "        print('Education level changed from '+educations[org_education]+' to '+educations[new_education]+'.')\n",
    "\n",
    "        \n",
    "    jobs = ['Service','Sales','Blue-Collar','White-Collar','Professional','Other/Unknown_Occupation']\n",
    "    org_job = np.argmax(x[21:27])\n",
    "    new_job = np.argmax(y[21:27])\n",
    "    if np.abs(org_job - new_job)>.5:\n",
    "        print('Job type changed from '+jobs[org_job]+' to '+jobs[new_job]+'.')\n",
    "\n"
   ]
  },
  {
   "cell_type": "code",
   "execution_count": 26,
   "id": "a6ff9028",
   "metadata": {},
   "outputs": [],
   "source": [
    "immutables = torch.tensor([0,1,2,4,5,6,7,8])"
   ]
  },
  {
   "cell_type": "code",
   "execution_count": 27,
   "id": "37b368a9",
   "metadata": {},
   "outputs": [],
   "source": [
    "categoricals = [(4,8),(9,12),(13,20),(21,26)]"
   ]
  },
  {
   "cell_type": "markdown",
   "id": "9e2f922b",
   "metadata": {},
   "source": [
    "Set up amicable perturbation creator"
   ]
  },
  {
   "cell_type": "code",
   "execution_count": 28,
   "id": "0f860f7f",
   "metadata": {},
   "outputs": [
    {
     "name": "stdout",
     "output_type": "stream",
     "text": [
      "None\n"
     ]
    },
    {
     "name": "stderr",
     "output_type": "stream",
     "text": [
      "/home/u4/friedbaum/amicable_pertubations.py:130: UserWarning: To copy construct from a tensor, it is recommended to use sourceTensor.clone().detach() or sourceTensor.clone().detach().requires_grad_(True), rather than torch.tensor(sourceTensor).\n",
      "  self.immutable = torch.tensor(immutable_indices)\n"
     ]
    }
   ],
   "source": [
    "adult_income_ap_creator = ap.AP_generator_Continuous(classifier.cpu().double(),verifier.cpu().double(),ai_distance,27,2,0.9,None,np.array([1]),np.array([0]),bounds,immutables,ai_conditioner,categoricals,initial_balance_param = 0,categorical_penalty=1,max_iters = 10000,learning_rate = 0.01,bound_penalty = 1)"
   ]
  },
  {
   "cell_type": "code",
   "execution_count": 29,
   "id": "e04fc993",
   "metadata": {},
   "outputs": [
    {
     "data": {
      "text/plain": [
       "Basic_fully_connected_Network(\n",
       "  (layer1): Linear(in_features=54, out_features=60, bias=True)\n",
       "  (layer2): Linear(in_features=60, out_features=60, bias=True)\n",
       "  (layer3): Linear(in_features=60, out_features=60, bias=True)\n",
       "  (layer4): Linear(in_features=60, out_features=2, bias=True)\n",
       ")"
      ]
     },
     "execution_count": 29,
     "metadata": {},
     "output_type": "execute_result"
    }
   ],
   "source": [
    "verifier.to(device)"
   ]
  },
  {
   "cell_type": "code",
   "execution_count": 30,
   "id": "46245901",
   "metadata": {},
   "outputs": [
    {
     "name": "stdout",
     "output_type": "stream",
     "text": [
      "Using lambda 0.0\n"
     ]
    },
    {
     "name": "stderr",
     "output_type": "stream",
     "text": [
      "/home/u4/friedbaum/amicable_pertubations.py:607: UserWarning: Implicit dimension choice for softmax has been deprecated. Change the call to include dim=X as an argument.\n",
      "  original_probs = torch.nn.functional.softmax(classifier(torch.tensor(x))).detach().cpu().numpy()\n",
      "/home/u4/friedbaum/amicable_pertubations.py:421: UserWarning: To copy construct from a tensor, it is recommended to use sourceTensor.clone().detach() or sourceTensor.clone().detach().requires_grad_(True), rather than torch.tensor(sourceTensor).\n",
      "  original = torch.tensor(x,dtype= float)\n"
     ]
    },
    {
     "name": "stdout",
     "output_type": "stream",
     "text": [
      "Using lambda 0.05\n",
      "Using lambda 0.1\n",
      "Using lambda 0.15000000000000002\n",
      "Using lambda 0.2\n",
      "Using lambda 0.25\n",
      "Using lambda 0.30000000000000004\n",
      "Using lambda 0.35000000000000003\n",
      "Using lambda 0.4\n",
      "Using lambda 0.45\n",
      "Using lambda 0.5\n",
      "Using lambda 0.55\n",
      "Using lambda 0.6000000000000001\n",
      "Using lambda 0.65\n",
      "Using lambda 0.7000000000000001\n",
      "Using lambda 0.75\n",
      "Using lambda 0.8\n",
      "Using lambda 0.8500000000000001\n",
      "Using lambda 0.9\n",
      "Using lambda 0.9500000000000001\n",
      "Using lambda 1.0\n"
     ]
    },
    {
     "name": "stderr",
     "output_type": "stream",
     "text": [
      "/home/u4/friedbaum/amicable_pertubations.py:639: UserWarning: Implicit dimension choice for softmax has been deprecated. Change the call to include dim=X as an argument.\n",
      "  verification = torch.nn.functional.softmax(verifier(torch.tensor(np.concatenate((x,aps[idx]))).to(device).double()))\n",
      "/home/u4/friedbaum/amicable_pertubations.py:643: UserWarning: Implicit dimension choice for softmax has been deprecated. Change the call to include dim=X as an argument.\n",
      "  original_delta = creator.calc_wanted_PD(torch.nn.functional.softmax(classifier(torch.tensor(x))),shrinkage=1).item()\n"
     ]
    }
   ],
   "source": [
    "\n",
    "aps,probs,deltas,epsilons,ver,discrep = ap.create_pareto_graph(adult_income_ap_creator,classifier,verifier,low_income[0],0,1,21,2000, 1, np.array([]), np.array([]), np.array([]))\n"
   ]
  },
  {
   "cell_type": "code",
   "execution_count": 31,
   "id": "27d29314",
   "metadata": {},
   "outputs": [
    {
     "data": {
      "text/plain": [
       "<matplotlib.collections.PathCollection at 0x7fb610038668>"
      ]
     },
     "execution_count": 31,
     "metadata": {},
     "output_type": "execute_result"
    },
    {
     "data": {
      "image/png": "[encoded data removed]",
      "text/plain": [
       "<Figure size 432x288 with 1 Axes>"
      ]
     },
     "metadata": {
      "needs_background": "light"
     },
     "output_type": "display_data"
    }
   ],
   "source": [
    "plt.scatter(epsilons,deltas)"
   ]
  },
  {
   "cell_type": "markdown",
   "id": "41554d30",
   "metadata": {},
   "source": [
    "Set up Counterfactual creator for comparison"
   ]
  },
  {
   "cell_type": "code",
   "execution_count": 32,
   "id": "a367f9be",
   "metadata": {},
   "outputs": [],
   "source": [
    "my_dice_data = dml.Data(dataframe=adult_income_data, continuous_features=['age', 'hours_per_week'], outcome_name='income')"
   ]
  },
  {
   "cell_type": "code",
   "execution_count": 33,
   "id": "48714159",
   "metadata": {},
   "outputs": [
    {
     "data": {
      "text/plain": [
       "softmaxed_network(\n",
       "  (classifier): Basic_fully_connected_Network(\n",
       "    (layer1): Linear(in_features=27, out_features=60, bias=True)\n",
       "    (layer2): Linear(in_features=60, out_features=60, bias=True)\n",
       "    (layer3): Linear(in_features=60, out_features=60, bias=True)\n",
       "    (layer4): Linear(in_features=60, out_features=2, bias=True)\n",
       "  )\n",
       "  (softener): Softmax(dim=-1)\n",
       ")"
      ]
     },
     "execution_count": 33,
     "metadata": {},
     "output_type": "execute_result"
    }
   ],
   "source": [
    "soft_classifier.cpu()"
   ]
  },
  {
   "cell_type": "code",
   "execution_count": 34,
   "id": "4c324c67",
   "metadata": {},
   "outputs": [],
   "source": [
    "my_dice_model = dml.Model(soft_classifier, backend='PYT')"
   ]
  },
  {
   "cell_type": "code",
   "execution_count": 35,
   "id": "1f6e66db",
   "metadata": {},
   "outputs": [],
   "source": [
    "my_dice_explainer = DicePyTorch(my_dice_data,my_dice_model)"
   ]
  },
  {
   "cell_type": "code",
   "execution_count": 36,
   "id": "e9058cec",
   "metadata": {},
   "outputs": [],
   "source": [
    "my_variables = [\n",
    " 'hours_per_week',\n",
    " 'Government',\n",
    " 'Private',\n",
    " 'Self-Employed',\n",
    " 'Other/Unknown_Work',\n",
    " 'School',\n",
    " 'HS-grad',\n",
    " 'Prof-school',\n",
    " 'Some-college',\n",
    " 'Assoc',\n",
    " 'Bachelors',\n",
    " 'Masters',\n",
    " 'Doctorate',\n",
    " 'Service',\n",
    " 'Sales',\n",
    " 'Blue-Collar',\n",
    " 'White-Collar',\n",
    " 'Professional',\n",
    " 'Other/Unknown_Occupation']"
   ]
  },
  {
   "cell_type": "code",
   "execution_count": 37,
   "id": "8ab2fb67",
   "metadata": {},
   "outputs": [
    {
     "name": "stderr",
     "output_type": "stream",
     "text": [
      "100%|██████████| 1/1 [00:03<00:00,  3.29s/it]"
     ]
    },
    {
     "name": "stdout",
     "output_type": "stream",
     "text": [
      "Diverse Counterfactuals found! total time taken: 00 min 03 sec\n"
     ]
    },
    {
     "name": "stderr",
     "output_type": "stream",
     "text": [
      "\n"
     ]
    },
    {
     "data": {
      "text/plain": [
       "<dice_ml.counterfactual_explanations.CounterfactualExplanations at 0x7fb5fbd34588>"
      ]
     },
     "execution_count": 37,
     "metadata": {},
     "output_type": "execute_result"
    }
   ],
   "source": [
    "my_dice_explainer.generate_counterfactuals(adult_income_data.drop(columns=\"income\")[1:2], total_CFs=1, desired_class=\"opposite\",features_to_vary=my_variables)"
   ]
  },
  {
   "cell_type": "code",
   "execution_count": 38,
   "id": "6aa816ed",
   "metadata": {},
   "outputs": [],
   "source": [
    "my_categoricals = [[4,5,6,7,8],[9,10,11,12],[13,14,15,16,17,18,19,20],[21,22,23,24,25,26]]"
   ]
  },
  {
   "cell_type": "code",
   "execution_count": 39,
   "id": "119c81a3",
   "metadata": {},
   "outputs": [],
   "source": [
    "my_dice_explainer.encoded_categorical_feature_indexes = my_categoricals"
   ]
  },
  {
   "cell_type": "code",
   "execution_count": 40,
   "id": "d7f5dd59",
   "metadata": {},
   "outputs": [],
   "source": [
    "my_dice_explainer.encoded_continuous_feature_indexes = [0,1,2,3]"
   ]
  },
  {
   "cell_type": "code",
   "execution_count": 41,
   "id": "eca8a3b2",
   "metadata": {},
   "outputs": [],
   "source": [
    "my_dice_explainer.cont_minx = [17,0,0,1]"
   ]
  },
  {
   "cell_type": "code",
   "execution_count": 42,
   "id": "da05be41",
   "metadata": {},
   "outputs": [],
   "source": [
    "my_dice_explainer.cont_maxx = [90,1,1,99]"
   ]
  },
  {
   "cell_type": "code",
   "execution_count": 43,
   "id": "870ffb67",
   "metadata": {},
   "outputs": [],
   "source": [
    "my_dice_explainer.minx[0,0] = 17\n",
    "my_dice_explainer.minx[0,3] = 1"
   ]
  },
  {
   "cell_type": "code",
   "execution_count": 44,
   "id": "570c136b",
   "metadata": {},
   "outputs": [],
   "source": [
    "my_dice_explainer.maxx[0,0] = 90\n",
    "my_dice_explainer.maxx[0,3] = 99"
   ]
  },
  {
   "cell_type": "code",
   "execution_count": 45,
   "id": "f4f10c48",
   "metadata": {},
   "outputs": [],
   "source": [
    "my_dice_explainer.cont_precisions = [0,0,0,0]"
   ]
  },
  {
   "cell_type": "code",
   "execution_count": 46,
   "id": "87e3fd1e",
   "metadata": {},
   "outputs": [],
   "source": [
    "my_dice_explainer.feature_weights_list[0] /= 73\n",
    "my_dice_explainer.feature_weights_list[3] /= 98"
   ]
  },
  {
   "cell_type": "code",
   "execution_count": 47,
   "id": "59d24530",
   "metadata": {},
   "outputs": [
    {
     "data": {
      "text/plain": [
       "softmaxed_network(\n",
       "  (classifier): Basic_fully_connected_Network(\n",
       "    (layer1): Linear(in_features=27, out_features=60, bias=True)\n",
       "    (layer2): Linear(in_features=60, out_features=60, bias=True)\n",
       "    (layer3): Linear(in_features=60, out_features=60, bias=True)\n",
       "    (layer4): Linear(in_features=60, out_features=2, bias=True)\n",
       "  )\n",
       "  (softener): Softmax(dim=-1)\n",
       ")"
      ]
     },
     "execution_count": 47,
     "metadata": {},
     "output_type": "execute_result"
    }
   ],
   "source": [
    "soft_classifier.float()"
   ]
  },
  {
   "cell_type": "markdown",
   "id": "b8846f43",
   "metadata": {},
   "source": [
    "Test Individual and save results"
   ]
  },
  {
   "cell_type": "code",
   "execution_count": 48,
   "id": "4360606f",
   "metadata": {},
   "outputs": [
    {
     "name": "stdout",
     "output_type": "stream",
     "text": [
      "Using lambda 0.0\n",
      "Using lambda 0.05\n",
      "Using lambda 0.1\n",
      "Using lambda 0.15000000000000002\n",
      "Using lambda 0.2\n",
      "Using lambda 0.25\n",
      "Using lambda 0.30000000000000004\n",
      "Using lambda 0.35000000000000003\n",
      "Using lambda 0.4\n",
      "Using lambda 0.45\n",
      "Using lambda 0.5\n",
      "Using lambda 0.55\n",
      "Using lambda 0.6000000000000001\n",
      "Using lambda 0.65\n",
      "Using lambda 0.7000000000000001\n",
      "Using lambda 0.75\n",
      "Using lambda 0.8\n",
      "Using lambda 0.8500000000000001\n",
      "Using lambda 0.9\n",
      "Using lambda 0.9500000000000001\n",
      "Using lambda 1.0\n"
     ]
    },
    {
     "name": "stderr",
     "output_type": "stream",
     "text": [
      "100%|██████████| 1/1 [00:02<00:00,  2.18s/it]\n",
      "/home/u4/friedbaum/amicable_pertubations.py:211: UserWarning: To copy construct from a tensor, it is recommended to use sourceTensor.clone().detach() or sourceTensor.clone().detach().requires_grad_(True), rather than torch.tensor(sourceTensor).\n",
      "  prediction = torch.nn.functional.softmax(self.classifier(torch.tensor(input)),dim = 0)\n"
     ]
    },
    {
     "name": "stdout",
     "output_type": "stream",
     "text": [
      "Diverse Counterfactuals found! total time taken: 00 min 02 sec\n"
     ]
    },
    {
     "name": "stderr",
     "output_type": "stream",
     "text": [
      "100%|██████████| 1/1 [00:15<00:00, 15.80s/it]"
     ]
    },
    {
     "name": "stdout",
     "output_type": "stream",
     "text": [
      "Diverse Counterfactuals found! total time taken: 00 min 15 sec\n",
      "Age: 30.0\n",
      "Race: White\n",
      "Sex: Male\n",
      "Hours worked per week: 50.0\n",
      "Marital Status: Single\n",
      "Employer: Private\n",
      "Education: Bachelors\n",
      "Occupation: Professional\n"
     ]
    },
    {
     "name": "stderr",
     "output_type": "stream",
     "text": [
      "\n"
     ]
    },
    {
     "data": {
      "image/png": "[encoded data removed]",
      "text/plain": [
       "<Figure size 432x288 with 1 Axes>"
      ]
     },
     "metadata": {
      "needs_background": "light"
     },
     "output_type": "display_data"
    },
    {
     "data": {
      "image/png": "[encoded data removed]",
      "text/plain": [
       "<Figure size 432x288 with 2 Axes>"
      ]
     },
     "metadata": {
      "needs_background": "light"
     },
     "output_type": "display_data"
    },
    {
     "data": {
      "image/png": "[encoded data removed]",
      "text/plain": [
       "<Figure size 432x288 with 2 Axes>"
      ]
     },
     "metadata": {
      "needs_background": "light"
     },
     "output_type": "display_data"
    },
    {
     "data": {
      "image/png": "[encoded data removed]",
      "text/plain": [
       "<Figure size 432x288 with 2 Axes>"
      ]
     },
     "metadata": {
      "needs_background": "light"
     },
     "output_type": "display_data"
    },
    {
     "name": "stdout",
     "output_type": "stream",
     "text": [
      "\n",
      "Amicable Perturbations \n",
      "\n",
      "\n",
      "Distance to target: 0.1880311369895935\n",
      "Cost :6.1\n",
      "Dicrepancy value : 0.052569652883960316\n",
      "Verification Confidence: 0.11485901208508642\n",
      "Straight verification value: 0.4567151665687561\n",
      "Hours worked increased by 1.0.\n",
      "Employer type from Private to Self-Employed.\n",
      "Education level changed from Bachelors to Doctorate.\n",
      "\n",
      "Distance to target: 0.10499143600463867\n",
      "Cost :5.1\n",
      "Dicrepancy value : 0.07179035649082621\n",
      "Verification Confidence: 0.024723525644651467\n",
      "Straight verification value: 0.4408366084098816\n",
      "Hours worked increased by 1.0.\n",
      "Education level changed from Bachelors to Doctorate.\n",
      "\n",
      "Distance to target: 0.059387341141700745\n",
      "Cost :5.1\n",
      "Dicrepancy value : 0.0739477068604728\n",
      "Verification Confidence: -0.015894249789719483\n",
      "Straight verification value: 0.4409995675086975\n",
      "Hours worked increased by 1.0.\n",
      "Employer type from Private to Self-Employed.\n",
      "Education level changed from Bachelors to Prof-school.\n",
      "\n",
      "Distance to target: 0.06286952644586563\n",
      "Cost :7.1\n",
      "Dicrepancy value : 0.0815894363166656\n",
      "Verification Confidence: -0.02062069648476844\n",
      "Straight verification value: 0.4331592321395874\n",
      "Hours worked increased by 1.0.\n",
      "Employer type from Private to Self-Employed.\n",
      "Education level changed from Bachelors to Doctorate.\n",
      "Job type changed from Professional to White-Collar.\n",
      "\n",
      "Distance to target: 0.06831606477499008\n",
      "Cost :7.4\n",
      "Dicrepancy value : 0.08381119236216605\n",
      "Verification Confidence: -0.018273698291662532\n",
      "Straight verification value: 0.4306357502937317\n",
      "Hours worked increased by 2.0.\n",
      "Employer type from Private to Self-Employed.\n",
      "Education level changed from Bachelors to Doctorate.\n",
      "Job type changed from Professional to White-Collar.\n",
      "\n",
      "Distance to target: 0.041091591119766235\n",
      "Cost :7.6\n",
      "Dicrepancy value : 0.12763886944325264\n",
      "Verification Confidence: -0.08480948025136492\n",
      "Straight verification value: 0.38844501972198486\n",
      "Hours worked increased by 4.0.\n",
      "Employer type from Private to Self-Employed.\n",
      "Education level changed from Bachelors to Prof-school.\n",
      "Job type changed from Professional to White-Collar.\n",
      "\n",
      "Distance to target: 0.04277769476175308\n",
      "Cost :6.9\n",
      "Dicrepancy value : 0.129140501586118\n",
      "Verification Confidence: -0.08491601135641719\n",
      "Straight verification value: 0.38683071732521057\n",
      "Hours worked increased by 3.0.\n",
      "Employer type from Private to Self-Employed.\n",
      "Education level changed from Bachelors to Prof-school.\n",
      "Job type changed from Professional to White-Collar.\n",
      "\n",
      "Distance to target: 0.048589058220386505\n",
      "Cost :6.1\n",
      "Dicrepancy value : 0.12970216118895905\n",
      "Verification Confidence: -0.08065559182610865\n",
      "Straight verification value: 0.38589441776275635\n",
      "Hours worked increased by 1.0.\n",
      "Employer type from Private to Self-Employed.\n",
      "Education level changed from Bachelors to Prof-school.\n",
      "Job type changed from Professional to White-Collar.\n",
      "\n",
      "Distance to target: 0.044936999678611755\n",
      "Cost :6.4\n",
      "Dicrepancy value : 0.13056636206181693\n",
      "Verification Confidence: -0.0845524809126314\n",
      "Straight verification value: 0.3852633237838745\n",
      "Hours worked increased by 2.0.\n",
      "Employer type from Private to Self-Employed.\n",
      "Education level changed from Bachelors to Prof-school.\n",
      "Job type changed from Professional to White-Collar.\n",
      "\n",
      "Distance to target: 0.3932616114616394\n",
      "Cost :2.0\n",
      "Dicrepancy value : 0.4772324930935241\n",
      "Verification Confidence: -0.13258160257848753\n",
      "Straight verification value: 0.025750473141670227\n",
      "Education level changed from Bachelors to Masters.\n",
      "\n",
      "Distance to target: 0.5703204870223999\n",
      "Cost :0.0\n",
      "Dicrepancy value : 0.4984707134175288\n",
      "Verification Confidence: 0.00013110654253978282\n",
      "Straight verification value: 0.00013110654253978282\n",
      "\n",
      "Distance to target: 0.5458793640136719\n",
      "Cost :0.1\n",
      "Dicrepancy value : 0.4990085503648949\n",
      "Verification Confidence: -0.021696428661933057\n",
      "Straight verification value: 0.00015965579950716347\n",
      "Hours worked increased by 1.0.\n",
      "\n",
      "\n",
      "Single Counterfactual\n",
      "\n",
      "\n",
      "Distance to target: 0.10455541\n",
      "Cost :tensor(5., dtype=torch.float64)\n",
      "Dicrepancy value : 0.06746781\n",
      "Verification Confidence: 0.028676142394542692\n",
      "Straight verification value: 0.44517913\n",
      "Education level changed from Bachelors to Doctorate.\n",
      "\n",
      "\n",
      "Diverse Counterfactuals\n",
      "\n",
      "\n",
      "Distance to target: 0.1526663899421692\n",
      "Cost :24.6\n",
      "Dicrepancy value : 0.0014817715\n",
      "Verification Confidence: 0.13861666435885295\n",
      "Straight verification value: 0.5120972\n",
      "Hours worked decreased by 14.0.\n",
      "Education level changed from Bachelors to Doctorate.\n",
      "\n",
      "Distance to target: 0.07770955562591553\n",
      "Cost :7.6\n",
      "Dicrepancy value : 0.032457262\n",
      "Verification Confidence: 0.10589674026869395\n",
      "Straight verification value: 0.5464062\n",
      "Hours worked increased by 4.0.\n",
      "Employer type from Private to Self-Employed.\n",
      "Education level changed from Bachelors to Prof-school.\n",
      "Job type changed from Professional to Sales.\n",
      "\n",
      "Distance to target: 0.1366870403289795\n",
      "Cost :13.1\n",
      "Dicrepancy value : 0.06256494\n",
      "Verification Confidence: 0.06092222967172983\n",
      "Straight verification value: 0.44869202\n",
      "Hours worked increased by 9.0.\n",
      "Education level changed from Bachelors to Doctorate.\n",
      "\n",
      "Distance to target: 0.0466897189617157\n",
      "Cost :8.6\n",
      "Dicrepancy value : 0.0668838\n",
      "Verification Confidence: -0.019415266074836457\n",
      "Straight verification value: 0.4488332\n",
      "Hours worked decreased by 4.0.\n",
      "Employer type from Private to Self-Employed.\n",
      "Education level changed from Bachelors to Doctorate.\n",
      "Job type changed from Professional to White-Collar.\n",
      "\n",
      "Distance to target: 0.0647207647562027\n",
      "Cost :28.5\n",
      "Dicrepancy value : 0.08857581\n",
      "Verification Confidence: -0.02605534785477831\n",
      "Straight verification value: 0.42606914\n",
      "Hours worked increased by 15.0.\n",
      "Employer type from Private to Self-Employed.\n",
      "Education level changed from Bachelors to Prof-school.\n",
      "Job type changed from Professional to White-Collar.\n",
      "\n",
      "Distance to target: 0.42313095927238464\n",
      "Cost :5.0\n",
      "Dicrepancy value : 0.15198734\n",
      "Verification Confidence: 0.5225589369573165\n",
      "Straight verification value: 0.6541808\n",
      "Employer type from Private to Government.\n",
      "Education level changed from Bachelors to Prof-school.\n",
      "\n"
     ]
    },
    {
     "data": {
      "text/plain": [
       "(array([[ 3.00000000e+01,  1.00000000e+00,  1.00000000e+00,\n",
       "          5.00000000e+01,  1.00000000e+00,  0.00000000e+00,\n",
       "          0.00000000e+00,  0.00000000e+00,  0.00000000e+00,\n",
       "          0.00000000e+00,  1.00000000e+00,  0.00000000e+00,\n",
       "          0.00000000e+00, -0.00000000e+00, -0.00000000e+00,\n",
       "          0.00000000e+00, -0.00000000e+00, -0.00000000e+00,\n",
       "          0.00000000e+00,  1.00000000e+00,  0.00000000e+00,\n",
       "          0.00000000e+00,  0.00000000e+00,  0.00000000e+00,\n",
       "         -0.00000000e+00,  1.00000000e+00,  0.00000000e+00,\n",
       "          4.43591863e-01,  5.56408167e-01,  3.93261611e-01,\n",
       "          2.00000000e+00,  2.57504731e-02,  4.77232493e-01],\n",
       "        [ 3.00000000e+01,  1.00000000e+00,  1.00000000e+00,\n",
       "          5.00000000e+01,  1.00000000e+00,  0.00000000e+00,\n",
       "          0.00000000e+00,  0.00000000e+00,  0.00000000e+00,\n",
       "         -0.00000000e+00,  1.00000000e+00,  0.00000000e+00,\n",
       "         -0.00000000e+00, -0.00000000e+00, -0.00000000e+00,\n",
       "          0.00000000e+00, -0.00000000e+00, -0.00000000e+00,\n",
       "          1.00000000e+00,  0.00000000e+00,  0.00000000e+00,\n",
       "         -0.00000000e+00, -0.00000000e+00, -0.00000000e+00,\n",
       "         -0.00000000e+00,  1.00000000e+00, -0.00000000e+00,\n",
       "          5.26440620e-01,  4.73559320e-01,  5.70320487e-01,\n",
       "          0.00000000e+00,  1.31106543e-04,  4.98470713e-01],\n",
       "        [ 3.00000000e+01,  1.00000000e+00,  1.00000000e+00,\n",
       "          5.10000000e+01,  1.00000000e+00,  0.00000000e+00,\n",
       "          0.00000000e+00,  0.00000000e+00,  0.00000000e+00,\n",
       "          0.00000000e+00,  0.00000000e+00,  1.00000000e+00,\n",
       "          0.00000000e+00, -0.00000000e+00,  0.00000000e+00,\n",
       "          0.00000000e+00,  0.00000000e+00,  0.00000000e+00,\n",
       "          0.00000000e+00,  0.00000000e+00,  1.00000000e+00,\n",
       "          0.00000000e+00,  0.00000000e+00,  0.00000000e+00,\n",
       "          0.00000000e+00,  1.00000000e+00,  0.00000000e+00,\n",
       "          3.24422330e-01,  6.75577641e-01,  1.88031137e-01,\n",
       "          6.10000000e+00,  4.56715167e-01,  5.25696529e-02],\n",
       "        [ 3.00000000e+01,  1.00000000e+00,  1.00000000e+00,\n",
       "          5.10000000e+01,  1.00000000e+00,  0.00000000e+00,\n",
       "          0.00000000e+00,  0.00000000e+00,  0.00000000e+00,\n",
       "          0.00000000e+00,  0.00000000e+00,  1.00000000e+00,\n",
       "          0.00000000e+00,  0.00000000e+00,  0.00000000e+00,\n",
       "          0.00000000e+00,  0.00000000e+00,  0.00000000e+00,\n",
       "         -0.00000000e+00,  0.00000000e+00,  1.00000000e+00,\n",
       "          0.00000000e+00,  0.00000000e+00,  0.00000000e+00,\n",
       "          1.00000000e+00,  0.00000000e+00,  0.00000000e+00,\n",
       "          2.21099302e-01,  7.78900683e-01,  6.28695264e-02,\n",
       "          7.10000000e+00,  4.33159232e-01,  8.15894363e-02],\n",
       "        [ 3.00000000e+01,  1.00000000e+00,  1.00000000e+00,\n",
       "          5.10000000e+01,  1.00000000e+00,  0.00000000e+00,\n",
       "          0.00000000e+00,  0.00000000e+00,  0.00000000e+00,\n",
       "          0.00000000e+00,  0.00000000e+00,  1.00000000e+00,\n",
       "          0.00000000e+00,  0.00000000e+00,  0.00000000e+00,\n",
       "          1.00000000e+00,  0.00000000e+00,  0.00000000e+00,\n",
       "          0.00000000e+00,  0.00000000e+00,  0.00000000e+00,\n",
       "          0.00000000e+00,  0.00000000e+00,  0.00000000e+00,\n",
       "          0.00000000e+00,  1.00000000e+00,  0.00000000e+00,\n",
       "          2.17342809e-01,  7.82657266e-01,  5.93873411e-02,\n",
       "          5.10000000e+00,  4.40999568e-01,  7.39477069e-02],\n",
       "        [ 3.00000000e+01,  1.00000000e+00,  1.00000000e+00,\n",
       "          5.10000000e+01,  1.00000000e+00,  0.00000000e+00,\n",
       "          0.00000000e+00,  0.00000000e+00,  0.00000000e+00,\n",
       "          0.00000000e+00,  0.00000000e+00,  1.00000000e+00,\n",
       "          0.00000000e+00, -0.00000000e+00,  0.00000000e+00,\n",
       "          1.00000000e+00,  0.00000000e+00,  0.00000000e+00,\n",
       "          0.00000000e+00, -0.00000000e+00,  0.00000000e+00,\n",
       "          0.00000000e+00,  0.00000000e+00,  0.00000000e+00,\n",
       "          1.00000000e+00,  0.00000000e+00,  0.00000000e+00,\n",
       "          2.05063820e-01,  7.94936180e-01,  4.85890582e-02,\n",
       "          6.10000000e+00,  3.85894418e-01,  1.29702161e-01],\n",
       "        [ 3.00000000e+01,  1.00000000e+00,  1.00000000e+00,\n",
       "          5.10000000e+01,  1.00000000e+00,  0.00000000e+00,\n",
       "          0.00000000e+00,  0.00000000e+00,  0.00000000e+00,\n",
       "          0.00000000e+00,  1.00000000e+00,  0.00000000e+00,\n",
       "          0.00000000e+00, -0.00000000e+00, -0.00000000e+00,\n",
       "          0.00000000e+00, -0.00000000e+00, -0.00000000e+00,\n",
       "          0.00000000e+00,  0.00000000e+00,  1.00000000e+00,\n",
       "          0.00000000e+00,  0.00000000e+00,  0.00000000e+00,\n",
       "          0.00000000e+00,  1.00000000e+00,  0.00000000e+00,\n",
       "          2.61220902e-01,  7.38779128e-01,  1.04991436e-01,\n",
       "          5.10000000e+00,  4.40836608e-01,  7.17903565e-02],\n",
       "        [ 3.00000000e+01,  1.00000000e+00,  1.00000000e+00,\n",
       "          5.10000000e+01,  1.00000000e+00,  0.00000000e+00,\n",
       "          0.00000000e+00,  0.00000000e+00,  0.00000000e+00,\n",
       "         -0.00000000e+00,  1.00000000e+00,  0.00000000e+00,\n",
       "          0.00000000e+00, -0.00000000e+00, -0.00000000e+00,\n",
       "          0.00000000e+00,  0.00000000e+00,  0.00000000e+00,\n",
       "          1.00000000e+00,  0.00000000e+00,  0.00000000e+00,\n",
       "          0.00000000e+00,  0.00000000e+00,  0.00000000e+00,\n",
       "          0.00000000e+00,  1.00000000e+00, -0.00000000e+00,\n",
       "          5.15728414e-01,  4.84271586e-01,  5.45879364e-01,\n",
       "          1.00000000e-01,  1.59655800e-04,  4.99008550e-01],\n",
       "        [ 3.00000000e+01,  1.00000000e+00,  1.00000000e+00,\n",
       "          5.20000000e+01,  1.00000000e+00,  0.00000000e+00,\n",
       "          0.00000000e+00,  0.00000000e+00,  0.00000000e+00,\n",
       "          0.00000000e+00,  0.00000000e+00,  1.00000000e+00,\n",
       "          0.00000000e+00, -0.00000000e+00,  0.00000000e+00,\n",
       "          0.00000000e+00,  0.00000000e+00,  0.00000000e+00,\n",
       "          0.00000000e+00,  0.00000000e+00,  1.00000000e+00,\n",
       "          0.00000000e+00,  0.00000000e+00,  0.00000000e+00,\n",
       "          1.00000000e+00,  0.00000000e+00,  0.00000000e+00,\n",
       "          2.26805881e-01,  7.73194134e-01,  6.83160648e-02,\n",
       "          7.40000000e+00,  4.30635750e-01,  8.38111924e-02],\n",
       "        [ 3.00000000e+01,  1.00000000e+00,  1.00000000e+00,\n",
       "          5.20000000e+01,  1.00000000e+00,  0.00000000e+00,\n",
       "          0.00000000e+00,  0.00000000e+00,  0.00000000e+00,\n",
       "          0.00000000e+00,  0.00000000e+00,  1.00000000e+00,\n",
       "          0.00000000e+00,  0.00000000e+00,  0.00000000e+00,\n",
       "          1.00000000e+00,  0.00000000e+00,  0.00000000e+00,\n",
       "          0.00000000e+00,  0.00000000e+00,  0.00000000e+00,\n",
       "          0.00000000e+00,  0.00000000e+00,  0.00000000e+00,\n",
       "          1.00000000e+00,  0.00000000e+00,  0.00000000e+00,\n",
       "          2.00656831e-01,  7.99343169e-01,  4.49369997e-02,\n",
       "          6.40000000e+00,  3.85263324e-01,  1.30566362e-01],\n",
       "        [ 3.00000000e+01,  1.00000000e+00,  1.00000000e+00,\n",
       "          5.30000000e+01,  1.00000000e+00,  0.00000000e+00,\n",
       "          0.00000000e+00,  0.00000000e+00,  0.00000000e+00,\n",
       "          0.00000000e+00,  0.00000000e+00,  1.00000000e+00,\n",
       "          0.00000000e+00,  0.00000000e+00,  0.00000000e+00,\n",
       "          1.00000000e+00,  0.00000000e+00,  0.00000000e+00,\n",
       "          0.00000000e+00,  0.00000000e+00,  0.00000000e+00,\n",
       "          0.00000000e+00,  0.00000000e+00,  0.00000000e+00,\n",
       "          1.00000000e+00,  0.00000000e+00,  0.00000000e+00,\n",
       "          1.97979972e-01,  8.02020013e-01,  4.27776948e-02,\n",
       "          6.90000000e+00,  3.86830717e-01,  1.29140502e-01],\n",
       "        [ 3.00000000e+01,  1.00000000e+00,  1.00000000e+00,\n",
       "          5.40000000e+01,  1.00000000e+00,  0.00000000e+00,\n",
       "          0.00000000e+00,  0.00000000e+00,  0.00000000e+00,\n",
       "          0.00000000e+00,  0.00000000e+00,  1.00000000e+00,\n",
       "         -0.00000000e+00, -0.00000000e+00, -0.00000000e+00,\n",
       "          1.00000000e+00, -0.00000000e+00,  0.00000000e+00,\n",
       "          0.00000000e+00,  0.00000000e+00,  0.00000000e+00,\n",
       "          0.00000000e+00,  0.00000000e+00,  0.00000000e+00,\n",
       "          1.00000000e+00,  0.00000000e+00,  0.00000000e+00,\n",
       "          1.95849776e-01,  8.04150224e-01,  4.10915911e-02,\n",
       "          7.60000000e+00,  3.88445020e-01,  1.27638869e-01]]),\n",
       " array([30.        ,  1.        ,  1.        , 50.        ,  1.        ,\n",
       "         0.        ,  0.        ,  0.        ,  0.        ,  0.        ,\n",
       "         1.        ,  0.        ,  0.        ,  0.        ,  0.        ,\n",
       "         0.        ,  0.        ,  0.        ,  0.        ,  0.        ,\n",
       "         1.        ,  0.        ,  0.        ,  0.        ,  0.        ,\n",
       "         1.        ,  0.        ,  0.26084408,  0.73915589,  0.10455541,\n",
       "         5.        ,  0.44517913,  0.06746781]),\n",
       " array([[3.00000000e+01, 1.00000000e+00, 1.00000000e+00, 4.60000000e+01,\n",
       "         1.00000000e+00, 0.00000000e+00, 0.00000000e+00, 0.00000000e+00,\n",
       "         0.00000000e+00, 0.00000000e+00, 0.00000000e+00, 1.00000000e+00,\n",
       "         0.00000000e+00, 0.00000000e+00, 0.00000000e+00, 0.00000000e+00,\n",
       "         0.00000000e+00, 0.00000000e+00, 0.00000000e+00, 0.00000000e+00,\n",
       "         1.00000000e+00, 0.00000000e+00, 0.00000000e+00, 0.00000000e+00,\n",
       "         1.00000000e+00, 0.00000000e+00, 0.00000000e+00, 2.02789813e-01,\n",
       "         7.97210157e-01, 4.66897190e-02, 8.60000000e+00, 4.48833197e-01,\n",
       "         6.68838024e-02],\n",
       "        [3.00000000e+01, 1.00000000e+00, 1.00000000e+00, 5.00000000e+01,\n",
       "         1.00000000e+00, 0.00000000e+00, 0.00000000e+00, 0.00000000e+00,\n",
       "         0.00000000e+00, 1.00000000e+00, 0.00000000e+00, 0.00000000e+00,\n",
       "         0.00000000e+00, 0.00000000e+00, 0.00000000e+00, 1.00000000e+00,\n",
       "         0.00000000e+00, 0.00000000e+00, 0.00000000e+00, 0.00000000e+00,\n",
       "         0.00000000e+00, 0.00000000e+00, 0.00000000e+00, 0.00000000e+00,\n",
       "         0.00000000e+00, 1.00000000e+00, 0.00000000e+00, 4.58520800e-01,\n",
       "         5.41479230e-01, 4.23130959e-01, 5.00000000e+00, 6.54180825e-01,\n",
       "         1.51987344e-01],\n",
       "        [3.00000000e+01, 1.00000000e+00, 1.00000000e+00, 5.40000000e+01,\n",
       "         1.00000000e+00, 0.00000000e+00, 0.00000000e+00, 0.00000000e+00,\n",
       "         0.00000000e+00, 0.00000000e+00, 0.00000000e+00, 1.00000000e+00,\n",
       "         0.00000000e+00, 0.00000000e+00, 0.00000000e+00, 1.00000000e+00,\n",
       "         0.00000000e+00, 0.00000000e+00, 0.00000000e+00, 0.00000000e+00,\n",
       "         0.00000000e+00, 0.00000000e+00, 1.00000000e+00, 0.00000000e+00,\n",
       "         0.00000000e+00, 0.00000000e+00, 0.00000000e+00, 2.36224189e-01,\n",
       "         7.63775826e-01, 7.77095556e-02, 7.60000000e+00, 5.46406209e-01,\n",
       "         3.24572623e-02],\n",
       "        [3.00000000e+01, 1.00000000e+00, 1.00000000e+00, 6.50000000e+01,\n",
       "         1.00000000e+00, 0.00000000e+00, 0.00000000e+00, 0.00000000e+00,\n",
       "         0.00000000e+00, 0.00000000e+00, 0.00000000e+00, 1.00000000e+00,\n",
       "         0.00000000e+00, 0.00000000e+00, 0.00000000e+00, 1.00000000e+00,\n",
       "         0.00000000e+00, 0.00000000e+00, 0.00000000e+00, 0.00000000e+00,\n",
       "         0.00000000e+00, 0.00000000e+00, 0.00000000e+00, 0.00000000e+00,\n",
       "         1.00000000e+00, 0.00000000e+00, 0.00000000e+00, 2.23060980e-01,\n",
       "         7.76939094e-01, 6.47207648e-02, 2.85000000e+01, 4.26069140e-01,\n",
       "         8.85758102e-02],\n",
       "        [3.00000000e+01, 1.00000000e+00, 1.00000000e+00, 3.60000000e+01,\n",
       "         1.00000000e+00, 0.00000000e+00, 0.00000000e+00, 0.00000000e+00,\n",
       "         0.00000000e+00, 0.00000000e+00, 1.00000000e+00, 0.00000000e+00,\n",
       "         0.00000000e+00, 0.00000000e+00, 0.00000000e+00, 0.00000000e+00,\n",
       "         0.00000000e+00, 0.00000000e+00, 0.00000000e+00, 0.00000000e+00,\n",
       "         1.00000000e+00, 0.00000000e+00, 0.00000000e+00, 0.00000000e+00,\n",
       "         0.00000000e+00, 1.00000000e+00, 0.00000000e+00, 2.99260288e-01,\n",
       "         7.00739741e-01, 1.52666390e-01, 2.46000000e+01, 5.12097180e-01,\n",
       "         1.48177147e-03],\n",
       "        [3.00000000e+01, 1.00000000e+00, 1.00000000e+00, 5.90000000e+01,\n",
       "         1.00000000e+00, 0.00000000e+00, 0.00000000e+00, 0.00000000e+00,\n",
       "         0.00000000e+00, 0.00000000e+00, 1.00000000e+00, 0.00000000e+00,\n",
       "         0.00000000e+00, 0.00000000e+00, 0.00000000e+00, 0.00000000e+00,\n",
       "         0.00000000e+00, 0.00000000e+00, 0.00000000e+00, 0.00000000e+00,\n",
       "         1.00000000e+00, 0.00000000e+00, 0.00000000e+00, 0.00000000e+00,\n",
       "         0.00000000e+00, 1.00000000e+00, 0.00000000e+00, 2.87129551e-01,\n",
       "         7.12870419e-01, 1.36687040e-01, 1.31000000e+01, 4.48692024e-01,\n",
       "         6.25649393e-02]]))"
      ]
     },
     "execution_count": 48,
     "metadata": {},
     "output_type": "execute_result"
    }
   ],
   "source": [
    "\n",
    "ap.test_individual(low_income[4],classifier,soft_classifier,verifier,adult_income_ap_creator,my_dice_explainer,names[:-1],my_variables,immutables,0,1,21,2000,ai_conditioner,ai_distance,ai_interpretor,ai__change_interpretor,6,intersection = 0.51,verbose = True)\n"
   ]
  },
  {
   "cell_type": "code",
   "execution_count": null,
   "id": "9de3c496",
   "metadata": {},
   "outputs": [],
   "source": [
    "\n",
    "ap.save_results(low_income,2,names[:-1],'adult_income_examples.csv',classifier,soft_classifier,verifier,adult_income_ap_creator,my_dice_explainer,my_variables,immutables,0,1,21,2000,ai_conditioner,ai_distance,ai_interpretor,ai__change_interpretor,6)\n"
   ]
  },
  {
   "cell_type": "markdown",
   "id": "f437ba30",
   "metadata": {},
   "source": [
    "# Law School Success"
   ]
  },
  {
   "cell_type": "code",
   "execution_count": null,
   "id": "46466655",
   "metadata": {},
   "outputs": [],
   "source": []
  },
  {
   "cell_type": "code",
   "execution_count": null,
   "id": "f4749cbf",
   "metadata": {},
   "outputs": [],
   "source": [
    "def ls_interpretor(x):\n",
    "    \n",
    "    \n",
    "    if x[0] == 1:\n",
    "        print('Sex: Male')\n",
    "    else:\n",
    "        print('Sex: Female')\n",
    "        \n",
    "    Races = ['Amerindian','Asian','Black','Hispanic','Mexican','Puertorican','White','Other']\n",
    "    race = np.argmax(x[4:12])\n",
    "    print('Race: '+Races[race])\n",
    "        \n",
    "    print('LAST Score: '+str(x[1]))\n",
    "    \n",
    "    print('Undergraduate GPA: '+str(x[2]))\n",
    "    \n",
    "    print('First semester grades: '+str(x[3]))\n",
    "    \n",
    "    Regions = ['Far West','Great Lakes','Mid-South','Mountain West','Mid-West','North East','New England','North West']\n",
    "    region = np.argmax(x[12:20])\n",
    "    print('Region: '+Regions[region])"
   ]
  },
  {
   "cell_type": "code",
   "execution_count": null,
   "id": "12fb9aed",
   "metadata": {},
   "outputs": [],
   "source": [
    "def ls_change_interpretor(x,y):\n",
    "    sex_change =  y[0]-x[0]    \n",
    "    if sex_change > 0:\n",
    "        print('Sex changed from female to male.')\n",
    "    elif sex_change < 0:\n",
    "        print('Sex changed from male to female.')\n",
    "        \n",
    "    Races = ['Amerindian','Asian','Black','Hispanic','Mexican','Puertorican','White','Other']\n",
    "    original_race = np.argmax(x[4:12])\n",
    "    new_race = np.argmax(y[4:12])\n",
    "    if np.abs(original_race - new_race)>.5:\n",
    "        print('Race changed from '+Races[original_race]+' to '+Races[new_race]+'.')\n",
    "        \n",
    "    LSAT_change =  y[1]-x[1]    \n",
    "    if LSAT_change > 0:\n",
    "        print('LSAT score increased by '+str(LSAT_change)+'.')\n",
    "    elif LSAT_change < 0:\n",
    "        print('LSAT score decreased by '+str(LSAT_change*-1)+'.')\n",
    "        \n",
    "    UGPA_change =  y[2]-x[2]    \n",
    "    if UGPA_change > 0:\n",
    "        print('Undergraduate GPA increased by '+str(UGPA_change)+'.')\n",
    "    elif UGPA_change < 0:\n",
    "        print('Undergraduate GPA decreased by '+str(UGPA_change*-1)+'.')\n",
    "        \n",
    "    FSG_change =  y[3]-x[3]    \n",
    "    if FSG_change > 0:\n",
    "        print('First Semester Grades increased by '+str(FSG_change)+'.')\n",
    "    elif FSG_change < 0:\n",
    "        print('First Semester Grades decreased by '+str(FSG_change*-1)+'.')\n",
    "    \n",
    "    Regions = ['Far West','Great Lakes','Mid-South','Mountain West','Mid-West','North East','New England','North West']\n",
    "    original_region = np.argmax(x[12:20])\n",
    "    new_region = np.argmax(y[12:20])\n",
    "    if np.abs(original_region - new_region)>.5:\n",
    "        print('Region changed from '+Regions[original_region]+' to '+Regions[new_region]+'.')"
   ]
  },
  {
   "cell_type": "code",
   "execution_count": null,
   "id": "3b12e30f",
   "metadata": {},
   "outputs": [],
   "source": [
    "def ls_conditioner(invec):\n",
    "    output = invec.detach().clone()\n",
    "    output[0] = torch.round(output[0])\n",
    "    race = torch.argmax(output[4:12])\n",
    "    output[4:12] *= 0\n",
    "    output[4+race] += 1\n",
    "    region = torch.argmax(output[12:20])\n",
    "    output[12:20] *= 0\n",
    "    output[12+region] += 1\n",
    "    return output"
   ]
  },
  {
   "cell_type": "code",
   "execution_count": null,
   "id": "97c307a8",
   "metadata": {},
   "outputs": [],
   "source": [
    "def ls_distance(a,b):\n",
    "    distance = 0\n",
    "    distance += b[1]-a[1]\n",
    "    distance += 10*(b[2]-a[2])\n",
    "    distance += b[3]-a[3]\n",
    "    travel_weights = torch.tensor([[0,3,4,1,2,6,5,1],[3,0,1,2,1,2,1,3],[4,1,0,2,1,2,1,5],[1,2,2,0,1,4,3,2],[2,1,1,1,0,3,2,3],[6,2,2,4,3,0,1,5],[5,1,1,3,2,1,0,5],[1,3,5,2,3,5,5,0]]).double()    \n",
    "    distance += torch.dot(torch.mv(travel_weights,b[12:20]),a[12:20])\n",
    "    \n",
    "    return distance"
   ]
  },
  {
   "cell_type": "code",
   "execution_count": null,
   "id": "e68bdd7f",
   "metadata": {},
   "outputs": [],
   "source": [
    "ls_immutables = np.array([0,1,2,4,5,6,7,8,9,10,11])"
   ]
  },
  {
   "cell_type": "code",
   "execution_count": null,
   "id": "5c13d8f7",
   "metadata": {},
   "outputs": [],
   "source": [
    "categoricals = [(4,11),(12,19)]"
   ]
  },
  {
   "cell_type": "code",
   "execution_count": null,
   "id": "407c2267",
   "metadata": {},
   "outputs": [],
   "source": [
    "my_dice_data = dml.Data(dataframe=ls_data, continuous_features=['LSAT', 'UGPA', 'ZFYA'], outcome_name='first_pf')"
   ]
  },
  {
   "cell_type": "code",
   "execution_count": null,
   "id": "3a78837d",
   "metadata": {
    "scrolled": true
   },
   "outputs": [],
   "source": [
    "soft_classifier.cpu()"
   ]
  },
  {
   "cell_type": "code",
   "execution_count": null,
   "id": "72de1acc",
   "metadata": {},
   "outputs": [],
   "source": [
    "my_dice_model = dml.Model(soft_classifier, backend='PYT')"
   ]
  },
  {
   "cell_type": "code",
   "execution_count": null,
   "id": "9f16886a",
   "metadata": {},
   "outputs": [],
   "source": [
    "my_dice_explainer = DicePyTorch(my_dice_data,my_dice_model)"
   ]
  },
  {
   "cell_type": "code",
   "execution_count": null,
   "id": "4c5b5e45",
   "metadata": {},
   "outputs": [],
   "source": [
    "my_variables = [\n",
    " 'ZFYA',\n",
    " 'FW',\n",
    " 'GL',\n",
    " 'MS',\n",
    " 'Mt',\n",
    " 'MW',\n",
    " 'NE',\n",
    " 'NG',\n",
    " 'NW']"
   ]
  },
  {
   "cell_type": "code",
   "execution_count": null,
   "id": "cc46f4ff",
   "metadata": {},
   "outputs": [],
   "source": [
    "my_dice_explainer.generate_counterfactuals(ls_data.drop(columns=\"first_pf\")[1:2], total_CFs=1, desired_class=\"opposite\",features_to_vary=my_variables)"
   ]
  },
  {
   "cell_type": "code",
   "execution_count": null,
   "id": "f0cbbf3d",
   "metadata": {},
   "outputs": [],
   "source": [
    "my_categoricals = [[4,5,6,7,8,9,10,11],[12,13,14,15,16,17,18,19]]\n"
   ]
  },
  {
   "cell_type": "code",
   "execution_count": null,
   "id": "0eae8083",
   "metadata": {},
   "outputs": [],
   "source": [
    "my_dice_explainer.encoded_categorical_feature_indexes = my_categoricals"
   ]
  },
  {
   "cell_type": "code",
   "execution_count": null,
   "id": "81a7b6e6",
   "metadata": {},
   "outputs": [],
   "source": [
    "my_dice_explainer.encoded_continuous_feature_indexes = [1,2,3]"
   ]
  },
  {
   "cell_type": "code",
   "execution_count": null,
   "id": "d04b1481",
   "metadata": {},
   "outputs": [],
   "source": [
    "my_dice_explainer.cont_minx = mins[my_dice_explainer.encoded_continuous_feature_indexes]"
   ]
  },
  {
   "cell_type": "code",
   "execution_count": null,
   "id": "13f814e4",
   "metadata": {},
   "outputs": [],
   "source": [
    "my_dice_explainer.cont_maxx = maxes[my_dice_explainer.encoded_continuous_feature_indexes]"
   ]
  },
  {
   "cell_type": "code",
   "execution_count": null,
   "id": "2e9e6703",
   "metadata": {},
   "outputs": [],
   "source": [
    "my_dice_explainer.minx[0,my_dice_explainer.encoded_continuous_feature_indexes] = my_dice_explainer.cont_minx = mins[my_dice_explainer.encoded_continuous_feature_indexes]"
   ]
  },
  {
   "cell_type": "code",
   "execution_count": null,
   "id": "195d55e6",
   "metadata": {},
   "outputs": [],
   "source": [
    "my_dice_explainer.maxx[0,my_dice_explainer.encoded_continuous_feature_indexes] = my_dice_explainer.cont_maxx = maxes[my_dice_explainer.encoded_continuous_feature_indexes]"
   ]
  },
  {
   "cell_type": "code",
   "execution_count": null,
   "id": "971b36c2",
   "metadata": {},
   "outputs": [],
   "source": [
    "my_dice_explainer.cont_precisions = [100,100,100]"
   ]
  },
  {
   "cell_type": "code",
   "execution_count": null,
   "id": "3fe9c4fa",
   "metadata": {},
   "outputs": [],
   "source": []
  },
  {
   "cell_type": "code",
   "execution_count": null,
   "id": "dd00ed4b",
   "metadata": {},
   "outputs": [],
   "source": []
  },
  {
   "cell_type": "markdown",
   "id": "994111fe",
   "metadata": {},
   "source": [
    "# Diabetes Prediction"
   ]
  },
  {
   "cell_type": "code",
   "execution_count": null,
   "id": "5b747a6f",
   "metadata": {},
   "outputs": [],
   "source": [
    "def torch_dbts_conditioner(x):\n",
    "    new_x = x.detach().clone()\n",
    "    new_x = torch.round(new_x)\n",
    "    return new_x"
   ]
  },
  {
   "cell_type": "code",
   "execution_count": null,
   "id": "ec3123c9",
   "metadata": {},
   "outputs": [],
   "source": [
    "def dbts_dist(a,b):\n",
    "    dist = 0\n",
    "    dist += 3*(a[0]-b[0])**2\n",
    "    dist += 3*(a[1]-b[1])**2\n",
    "    dist += (a[3]-b[3])**2\n",
    "    dist += (a[7]-b[7])**2\n",
    "    dist += (a[8]-b[8])**2\n",
    "    dist += (a[9]-b[9])**2\n",
    "    dist += (a[10]-b[10])**2\n",
    "    dist += 4*(a[11]-b[11])**2\n",
    "    dist += 4*(a[13]-b[13])**2\n",
    "    dist += 0.25*(a[14]-b[14])**2\n",
    "    dist += 0.25*(a[15]-b[15])**2\n",
    "    dist += 5*(a[19]-b[19])**2\n",
    "    dist += 2*(a[20]-b[20])**2\n",
    "    return dist"
   ]
  },
  {
   "cell_type": "code",
   "execution_count": null,
   "id": "c2167b8f",
   "metadata": {},
   "outputs": [],
   "source": [
    "immutables = torch.tensor([0,1,2,5,6,12,13,14,15,16,17,18])"
   ]
  },
  {
   "cell_type": "code",
   "execution_count": null,
   "id": "9605a4c4",
   "metadata": {},
   "outputs": [],
   "source": [
    "categoricals = []"
   ]
  },
  {
   "cell_type": "code",
   "execution_count": null,
   "id": "30fb7261",
   "metadata": {},
   "outputs": [],
   "source": [
    "my_dice_data = dml.Data(dataframe=dbts_data, continuous_features=['BMI', 'GenHlth','MentHlth', 'PhysHlth', 'Age','Education','Income'], outcome_name='Any_Diabetes')"
   ]
  },
  {
   "cell_type": "markdown",
   "id": "5b4ced12",
   "metadata": {},
   "source": [
    "# German Credit"
   ]
  },
  {
   "cell_type": "code",
   "execution_count": null,
   "id": "6a65f3fe",
   "metadata": {},
   "outputs": [],
   "source": [
    "#For the german credit data we use the Enhanced_fully_connected_Network"
   ]
  },
  {
   "cell_type": "code",
   "execution_count": null,
   "id": "bcc44c19",
   "metadata": {},
   "outputs": [],
   "source": [
    "def german_interpretor(x):\n",
    "    \n",
    "    print('Loan Duration: '+str(x[0]*deviations[0]+averages[0]))\n",
    "    \n",
    "    print('Loan Size: '+str(x[1]*deviations[1]+averages[1]))\n",
    "    \n",
    "    print('Disposable Income: '+str(x[2]*deviations[2]+averages[2]))\n",
    "    \n",
    "    print('Time at Current Residence: '+str(x[3]*deviations[3]+averages[3]))\n",
    "    \n",
    "    print('Age: '+str(x[4]*deviations[4]+averages[4]))\n",
    "    \n",
    "    print('Dependents: '+str(x[5]*deviations[5]+averages[5]))\n",
    "    \n",
    "    if x[7] == 1:\n",
    "        print('Telephone: Yes')\n",
    "    else:\n",
    "        print('Telephone: No')\n",
    "    \n",
    "    if x[8] == 1:\n",
    "        print('Foreign Worker: Yes')\n",
    "    else:\n",
    "        print('Foreign Worker: No')\n",
    "        \n",
    "    other_credits = ['Other Credits Critical','Other Credits Critical','All Other Credits Current','Other Credits Delayed','No Other Credits',]\n",
    "    other_credit = np.argmax(x[9:14])    \n",
    "    print(other_credits[other_credit])\n",
    "        \n",
    "    purposes = ['Appliances','Business','Car(new)','Car(used)','Education','Furniture/Equipment','Other','Radio/TV','Repairs','Retraining']\n",
    "    purpose = np.argmax(x[14:24])\n",
    "    print('Purpose: '+purposes[purpose])\n",
    "    \n",
    "    \n",
    "    statuses = ['Female','Divorced Male', 'Married Male', 'Single Male']\n",
    "    status = np.argmax(x[24:28])\n",
    "    print('Personal Status: '+statuses[status])\n",
    "    \n",
    "    files = ['Co-file','Guarantor','Single-file']\n",
    "    file = np.argmax(x[28:31])\n",
    "    print('Filing Type: '+files[file])\n",
    "    \n",
    "    collaterals = ['Car','Life Insurance','Real Estate','None']\n",
    "    collateral = np.argmax(x[31:35])\n",
    "    print('Collateral: '+collaterals[collateral])\n",
    "    \n",
    "    housings = ['Free','Own','Rent']\n",
    "    housing = np.argmax(x[35:38])\n",
    "    print('Housing Type: '+housings[housing])\n",
    "       \n",
    "    installments = ['Bank','None','Store']\n",
    "    installment = np.argmax(x[38:41])\n",
    "    print('Other Installments: '+installments[installment])\n",
    "    \n",
    "    checkings = ['Less than 0','Between 0 and 200','Greater than 200', 'No checking account']\n",
    "    checking = np.argmax(x[41:45])\n",
    "    print('Amount in Checkings: '+checkings[checking])\n",
    "    \n",
    "    savings = ['No savings account','Between 0 and 100','Between 500 and 1,000','Between 100 and 500', 'Greater than 1000']\n",
    "    saving = np.argmax(x[45:50])\n",
    "    print('Amount in Savings: '+savings[saving])\n",
    "    \n",
    "    employments = ['Less than a year','Between 1 and 4 years','Between 4 and 7 years','Greater than 7 years']\n",
    "    employment = np.argmax(x[50:54])\n",
    "    print('Employment length: '+employments[employment])\n",
    "    \n",
    "    jobs = ['Unemployed','Managemant','Skilled','Unskilled','Unskilled non-resident']\n",
    "    job = np.argmax(x[50:55])\n",
    "    print('Job Type: '+jobs[job])\n",
    "    \n",
    "    return    \n",
    "    "
   ]
  },
  {
   "cell_type": "code",
   "execution_count": null,
   "id": "12cdc21d",
   "metadata": {},
   "outputs": [],
   "source": [
    "def german_change_interpretor(x,y):\n",
    "    \n",
    "    duration_change =  y[0]-x[0]    \n",
    "    if duration_change > 0:\n",
    "        print('Duration increased by '+str(duration_change*deviations[0])+' months.')\n",
    "    elif duration_change < 0:\n",
    "        print('Duration decreased by '+str(duration_change*deviations[0])+' months.')\n",
    "    \n",
    "    size_change =  y[1]-x[1]    \n",
    "    if size_change > 0:\n",
    "        print('Size increased by '+str(size_change*deviations[1])+' DM.')\n",
    "    elif size_change < 0:\n",
    "        print('Size decreased by '+str(size_change*deviations[1])+' DM.')\n",
    "        \n",
    "    income_change =  y[2]-x[2]    \n",
    "    if income_change > 0:\n",
    "        print('Income increased by '+str(income_change*deviations[2])+'.')\n",
    "    elif income_change < 0:\n",
    "        print('Income decreased by '+str(income_change*deviations[2])+'.')\n",
    "        \n",
    "    residence_change =  y[3]-x[3]    \n",
    "    if residence_change > 0:\n",
    "        print('Time at residence increased by '+str(residence_change*deviations[3])+' years.')\n",
    "    elif residence_change < 0:\n",
    "        print('Time at residence decreased by '+str(residence_change*deviations[4])+' years.')\n",
    "        \n",
    "    age_change =  y[4]-x[4]    \n",
    "    if age_change > 0:\n",
    "        print('Age increased by '+str(age_change*deviations[4])+' years.')\n",
    "    elif age_change < 0:\n",
    "        print('Age decreased by '+str(age_change*deviations[4])+' years.')\n",
    "        \n",
    "    credits_change =  y[5]-x[5]    \n",
    "    if credits_change > 0:\n",
    "        print('Existing credits increased by '+str(credits_change*deviations[5])+'.')\n",
    "    elif credits_change < 0:\n",
    "        print('Existing credits decreased by '+str(credits_change*deviations[5])+'.')\n",
    "        \n",
    "    dependents_change =  y[6]-x[6]    \n",
    "    if dependents_change > 0:\n",
    "        print('Dependents increased by '+str(dependents_change*deviations[6])+'.')\n",
    "    elif dependents_change < 0:\n",
    "        print('Dependents decreased by '+str(dependents_change*deviations[6])+'.')\n",
    "    \n",
    "    telephone_change = y[7]-x[7]\n",
    "    if telephone_change ==1:\n",
    "        print('Got Telephone.')\n",
    "    elif telephone_change ==-1:\n",
    "        print('Lost Telephone.')\n",
    "        \n",
    "    other_credits = ['Other Credits Critical','Other Credits Critical','All Other Credits Current','Other Credits Delayed','No Other Credits',]\n",
    "    org_other_credit = np.argmax(x[9:14])    \n",
    "    new_other_credit = np.argmax(y[9:14]) \n",
    "    if np.abs(org_other_credit - new_other_credit)>.5:\n",
    "        print('Other Credits changed from '+other_credits[org_other_credit]+' to '+other_credits[new_other_credit]+'.')\n",
    "        \n",
    "    purposes = ['Appliances','Business','Car(new)','Car(used)','Education','Furniture/Equipment','Other','Radio/TV','Repairs','Retraining']\n",
    "    org_purpose = np.argmax(x[14:24])\n",
    "    new_purpose = np.argmax(y[14:24])\n",
    "    if np.abs(org_purpose - new_purpose)>.5:\n",
    "        print('Marital Status changed from '+purposes[org_purpose]+' to '+purposes[new_purpose]+'.')\n",
    "    \n",
    "    \n",
    "    statuses = ['Female','Divorced Male', 'Married Male', 'Single Male']\n",
    "    org_status = np.argmax(x[24:28])\n",
    "    new_status = np.argmax(y[24:28])\n",
    "    if np.abs(org_status - new_status)>.5:\n",
    "        print('Marital Status changed from '+statuses[org_status]+' to '+statuses[new_status]+'.')\n",
    "    \n",
    "    files = ['Co-file','Guarantor','Single-file']\n",
    "    org_file = np.argmax(x[28:31])\n",
    "    new_file = np.argmax(y[28:31])\n",
    "    if np.abs(org_file - new_file)>.5:\n",
    "        print('Filing type changed from '+files[org_file]+' to '+files[new_file]+'.')\n",
    "    \n",
    "    collaterals = ['Car','Life Insurance','Real Estate','None']\n",
    "    org_collateral = np.argmax(x[31:35])\n",
    "    new_collateral = np.argmax(y[31:35])\n",
    "    if np.abs(org_collateral - new_collateral)>.5:\n",
    "        print('Collateral type changed from '+collaterals[org_collateral]+' to '+collaterals[new_collateral]+'.')\n",
    "    \n",
    "    housings = ['Free','Own','Rent']\n",
    "    org_housing = np.argmax(x[35:38])\n",
    "    new_housing = np.argmax(y[35:38])\n",
    "    if np.abs(org_housing - new_housing)>.5:\n",
    "        print('Housing type changed from '+housings[org_housing]+' to '+housings[new_housing]+'.')\n",
    "       \n",
    "    installments = ['Bank','None','Store']\n",
    "    org_installment = np.argmax(x[38:41])\n",
    "    new_installment = np.argmax(y[38:41])\n",
    "    if np.abs(org_installment - new_installment)>.5:\n",
    "        print('Installment type changed from '+installments[org_installment]+' to '+installments[new_installment]+'.')\n",
    "    \n",
    "    checkings = ['Less than 0','Between 0 and 200','Greater than 200', 'No checking account']\n",
    "    org_checking = np.argmax(x[41:45])\n",
    "    new_checking = np.argmax(y[41:45])\n",
    "    if np.abs(org_checking - new_checking)>.5:\n",
    "        print('Checking account changed from '+checkings[org_checking]+' to '+checkings[new_checking]+'.')\n",
    "    \n",
    "    savings = ['No savings account','Between 0 and 100','Between 500 and 1,000','Between 100 and 500', 'Greater than 1000']\n",
    "    org_saving = np.argmax(x[45:50])\n",
    "    new_saving = np.argmax(y[45:50])\n",
    "    if np.abs(org_saving - new_saving)>.5:\n",
    "        print('Saving account changed from '+savings[org_saving]+' to '+savings[new_saving]+'.')\n",
    "    \n",
    "    employments = ['Less than a year','Between 1 and 4 years','Between 4 and 7 years','Greater than 7 years']\n",
    "    org_employment = np.argmax(x[50:54])\n",
    "    new_employment = np.argmax(y[50:54])\n",
    "    if np.abs(org_employment - new_employment)>.5:\n",
    "        print('Time at employment changed from '+employments[org_employment]+' to '+employments[new_employment]+'.')\n",
    "    \n",
    "    jobs = ['Unemployed','Managemant','Skilled','Unskilled','Unskilled non-resident']\n",
    "    org_job = np.argmax(x[50:55])\n",
    "    new_job = np.argmax(x[50:55])\n",
    "    if np.abs(org_job - new_job)>.5:\n",
    "        print('Job type changed from '+jobs[org_job]+' to '+jobs[new_job]+'.')\n",
    "\n",
    "    return"
   ]
  },
  {
   "cell_type": "code",
   "execution_count": null,
   "id": "776effd4",
   "metadata": {},
   "outputs": [],
   "source": [
    "def german_conditioner(x):\n",
    "\n",
    "    new_x = x.detach().clone()  \n",
    "    \n",
    "    true_duration = torch.round((new_x[0]*deviations[0])+averages[0])\n",
    "    new_x[0] = (true_duration-averages[0])/deviations[0]\n",
    "    \n",
    "    true_size = torch.round(new_x[1]*deviations[1]+averages[1])\n",
    "    new_x[1] = (true_size-averages[1])/deviations[1]\n",
    "    \n",
    "    new_x[7:9] = torch.round(x[7:9])\n",
    "    \n",
    "    credit_state= torch.argmax(new_x[9:14])\n",
    "    new_x[9:14] *= 0\n",
    "    new_x[9+credit_state] += 1\n",
    "    \n",
    "    purpose = torch.argmax(new_x[14:24])\n",
    "    new_x[14:24] *= 0\n",
    "    new_x[14+purpose] += 1\n",
    "    \n",
    "    personal = torch.argmax(new_x[24:28])\n",
    "    new_x[24:28] *= 0\n",
    "    new_x[24+personal] += 1\n",
    "    \n",
    "    file = torch.argmax(new_x[28:31])\n",
    "    new_x[28:31] *= 0\n",
    "    new_x[28+file] += 1\n",
    "    \n",
    "    collateral = torch.argmax(new_x[31:35])\n",
    "    new_x[31:35] *= 0\n",
    "    new_x[31+collateral] += 1\n",
    "       \n",
    "    housing = torch.argmax(new_x[35:38])\n",
    "    new_x[35:38] *= 0\n",
    "    new_x[35+housing] += 1\n",
    "    \n",
    "    installments = torch.argmax(new_x[38:41])\n",
    "    new_x[38:40] *= 0\n",
    "    new_x[38+installments] += 1\n",
    "    \n",
    "    checking = torch.argmax(new_x[41:45])\n",
    "    new_x[41:45] *= 0\n",
    "    new_x[41+checking] += 1\n",
    "    \n",
    "    savings = torch.argmax(new_x[45:50])\n",
    "    new_x[45:50] *= 0\n",
    "    new_x[45+savings] += 1\n",
    "    \n",
    "    employment = torch.argmax(new_x[50:55])\n",
    "    new_x[50:55] *= 0\n",
    "    new_x[50+employment] += 1\n",
    "    \n",
    "    job = torch.argmax(new_x[55:59])\n",
    "    new_x[55:59] *= 0\n",
    "    new_x[55+job] += 1\n",
    "    \n",
    "    new_x = torch.min(new_x,torch.tensor(maxes))\n",
    "    new_x = torch.max(new_x,torch.tensor(mins))\n",
    "    \n",
    "\n",
    "    \n",
    "    return new_x"
   ]
  },
  {
   "cell_type": "code",
   "execution_count": null,
   "id": "cd19ca28",
   "metadata": {},
   "outputs": [],
   "source": [
    "def german_dist(a,b):\n",
    "    distance = 0\n",
    "    \n",
    "    distance += torch.abs((b[0]-a[0])*deviations[0])*(a[2]*deviations[2]+averages[2])/12\n",
    "    \n",
    "    distance += torch.abs((a[1]-b[1])*deviations[1])\n",
    "    \n",
    "    distance += (b[7]-a[7])*50\n",
    "    \n",
    "    \n",
    "    checking_matrix = torch.tensor([[0,200,400,200],[-200,0,200,0],[-400,-200,0,-200],[-200,0,200,0]]).double()    \n",
    "    distance += torch.dot(torch.mv(checking_matrix,b[41:45]),a[41:45])\n",
    "    \n",
    "    savings_matrix = torch.tensor([[0,0,500,100,1000],[0,0,500,100,1000],[-500,-500,0,-400,500],[-100,-100,-400,0,500],[-1000,-1000,-500,-900,0]]).double()    \n",
    "    distance += torch.dot(torch.mv(savings_matrix,b[45:50]),a[45:50])\n",
    "    \n",
    "    \n",
    "    \n",
    "    return distance"
   ]
  },
  {
   "cell_type": "code",
   "execution_count": null,
   "id": "9ad29e71",
   "metadata": {},
   "outputs": [],
   "source": [
    "immutables = torch.tensor([2,3,4,5,6,]+[i for i in range(8,40)]+[i for i in range(50,59)])"
   ]
  },
  {
   "cell_type": "code",
   "execution_count": null,
   "id": "32779243",
   "metadata": {},
   "outputs": [],
   "source": [
    "categoricals = [(9,13),(14,23),(24,27),(28,30),(31,34),(35,37),(38,40),(41,44),(45,49),(50,53),(54,58)]"
   ]
  },
  {
   "cell_type": "code",
   "execution_count": null,
   "id": "257cd980",
   "metadata": {},
   "outputs": [],
   "source": [
    "my_dice_model = dml.Model(soft_classifier, backend='PYT')"
   ]
  },
  {
   "cell_type": "code",
   "execution_count": null,
   "id": "9ccc5899",
   "metadata": {},
   "outputs": [],
   "source": [
    "my_dice_explainer = DicePyTorch(my_dice_data,my_dice_model)"
   ]
  },
  {
   "cell_type": "code",
   "execution_count": null,
   "id": "6d02d042",
   "metadata": {},
   "outputs": [],
   "source": [
    "immutables"
   ]
  },
  {
   "cell_type": "code",
   "execution_count": null,
   "id": "bdbfdf7a",
   "metadata": {},
   "outputs": [],
   "source": [
    "my_variables = [\n",
    " 'Duration',\n",
    " 'Loan_Size',\n",
    " 'Telephone',\n",
    " 'Checking < 0 DM',\n",
    " 'Checking < 200 DM',\n",
    " 'Checking > 200 DM',\n",
    " 'No checking',\n",
    " 'No checking',\n",
    " 'Savings < 100 DM',\n",
    " 'Savings < 1000 DM',\n",
    " 'Savings < 500 DM'\n",
    " 'Savings > 1000 DM']"
   ]
  },
  {
   "cell_type": "code",
   "execution_count": null,
   "id": "b2572395",
   "metadata": {},
   "outputs": [],
   "source": [
    "my_dice_explainer.generate_counterfactuals(all_dataframe.drop(columns=\"Good_Risk\")[1:2], total_CFs=1, desired_class=\"opposite\",features_to_vary=my_variables)"
   ]
  },
  {
   "cell_type": "code",
   "execution_count": null,
   "id": "ae64959c",
   "metadata": {},
   "outputs": [],
   "source": [
    "my_categoricals = [(9,10,11,12,13),(14,15,16,17,18,19,20,21,22,23),(24,25,26,27),(28,29,30),(31,32,33,34),(35,36,37),(38,39,40),(41,42,43,44),(46,47,48,49),(50,51,52,53),(54,55,56,57,58)]"
   ]
  },
  {
   "cell_type": "code",
   "execution_count": null,
   "id": "5065a5c0",
   "metadata": {},
   "outputs": [],
   "source": [
    "my_dice_explainer.encoded_categorical_feature_indexes = my_categoricals"
   ]
  },
  {
   "cell_type": "code",
   "execution_count": null,
   "id": "7809385b",
   "metadata": {},
   "outputs": [],
   "source": [
    "my_dice_explainer.encoded_continuous_feature_indexes = np.arange(9)"
   ]
  },
  {
   "cell_type": "code",
   "execution_count": null,
   "id": "dc0c2670",
   "metadata": {},
   "outputs": [],
   "source": [
    "my_dice_explainer.cont_minx  = mins[:9]"
   ]
  },
  {
   "cell_type": "code",
   "execution_count": null,
   "id": "59594614",
   "metadata": {},
   "outputs": [],
   "source": [
    "my_dice_explainer.cont_maxx = maxes[:9]"
   ]
  },
  {
   "cell_type": "code",
   "execution_count": null,
   "id": "5a74e18e",
   "metadata": {},
   "outputs": [],
   "source": [
    "my_dice_explainer.minx[0] = mins"
   ]
  },
  {
   "cell_type": "code",
   "execution_count": null,
   "id": "afed6592",
   "metadata": {},
   "outputs": [],
   "source": [
    "my_dice_explainer.maxx[0] = maxes"
   ]
  },
  {
   "cell_type": "code",
   "execution_count": null,
   "id": "4a2b42e2",
   "metadata": {},
   "outputs": [],
   "source": [
    "my_dice_explainer.cont_precisions = np.ones(9,dtype = int)"
   ]
  },
  {
   "cell_type": "code",
   "execution_count": null,
   "id": "cf2495ab",
   "metadata": {},
   "outputs": [],
   "source": [
    "my_dice_explainer.feature_weights_list /= maxes-mins"
   ]
  },
  {
   "cell_type": "code",
   "execution_count": null,
   "id": "260a53c1",
   "metadata": {},
   "outputs": [],
   "source": []
  },
  {
   "cell_type": "code",
   "execution_count": null,
   "id": "9d20397a",
   "metadata": {},
   "outputs": [],
   "source": []
  }
 ],
 "metadata": {
  "kernelspec": {
   "display_name": "Python 3 (ipykernel)",
   "language": "python",
   "name": "python3"
  },
  "language_info": {
   "codemirror_mode": {
    "name": "ipython",
    "version": 3
   },
   "file_extension": ".py",
   "mimetype": "text/x-python",
   "name": "python",
   "nbconvert_exporter": "python",
   "pygments_lexer": "ipython3",
   "version": "3.11.5"
  }
 },
 "nbformat": 4,
 "nbformat_minor": 5
}
